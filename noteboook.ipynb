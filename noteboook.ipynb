{
  "cells": [
    {
      "cell_type": "markdown",
      "metadata": {
        "id": "Z8pfiYAJsW21"
      },
      "source": [
        "# **Graded Challenge 7**\n",
        "\n",
        "Name    : Ardianto<br>\n",
        "Batch   : FTDS-RMT 024\n",
        "\n",
        "---"
      ]
    },
    {
      "cell_type": "markdown",
      "metadata": {},
      "source": [
        "X-tech adalah perusahaan baru yang bergerak di bidang cyber-security. Salah satu fitur yang akan ditawarkan kepada para pengguna adalah fitur pendeteksi email spam. Pada fitur tersebut, email-email yang masuk ke komputer pengguna namun tidak penting seperti fraud, pishing, promotion, dan lain lain harus bisa deteksi agar user tidak perlu melihat atau membacar jenis email tersebut. Dalam tahap pengembangan awal, developer membuat sebuah model deep learning tujuannya untuk mendeteksi apakah email yang masuk termasuk spam atau tidak. Dalam waktu kurang dari satu minggu, tim harus berhasil membuat model deep learning tersebut sebagai langkah awal.\n",
        "\n",
        "*Problem Statement*\n",
        "> Membuat sebuah model deeplearning dengan akurasi di atas 80% untuk mendeteksi unsur spam dalam sebuah text dalam waktu satu minggu"
      ]
    },
    {
      "cell_type": "markdown",
      "metadata": {
        "id": "PU_xKzZ3tnQU"
      },
      "source": [
        "### **A. Import Library**"
      ]
    },
    {
      "cell_type": "code",
      "execution_count": 63,
      "metadata": {
        "colab": {
          "base_uri": "https://localhost:8080/"
        },
        "id": "8_H2LwJ5txHG",
        "outputId": "54718990-f5d5-49db-cd80-991bcd479e1c"
      },
      "outputs": [
        {
          "name": "stderr",
          "output_type": "stream",
          "text": [
            "[nltk_data] Downloading package stopwords to\n",
            "[nltk_data]     C:\\Users\\ardia\\AppData\\Roaming\\nltk_data...\n",
            "[nltk_data]   Package stopwords is already up-to-date!\n",
            "[nltk_data] Downloading package punkt to\n",
            "[nltk_data]     C:\\Users\\ardia\\AppData\\Roaming\\nltk_data...\n",
            "[nltk_data]   Package punkt is already up-to-date!\n",
            "[nltk_data] Downloading package wordnet to\n",
            "[nltk_data]     C:\\Users\\ardia\\AppData\\Roaming\\nltk_data...\n",
            "[nltk_data]   Package wordnet is already up-to-date!\n"
          ]
        }
      ],
      "source": [
        "# pandas and Numpy\n",
        "import pandas as pd\n",
        "import numpy as np\n",
        "\n",
        "# viz\n",
        "import matplotlib.pyplot as plt\n",
        "import seaborn as sns\n",
        "\n",
        "#string and regex\n",
        "import re\n",
        "import string\n",
        "\n",
        "# tensorflow\n",
        "import tensorflow as tf\n",
        "import tensorflow_hub as tf_hub\n",
        "from tensorflow.keras.layers import TextVectorization, Embedding, Dense, LSTM, Bidirectional, Dropout, Reshape\n",
        "from tensorflow.keras.models import Sequential\n",
        "from tensorflow.keras.callbacks import EarlyStopping\n",
        "\n",
        "# sklearn\n",
        "from sklearn.model_selection import train_test_split\n",
        "from sklearn.feature_extraction.text import CountVectorizer\n",
        "from sklearn.metrics import classification_report\n",
        "\n",
        "#nltk\n",
        "from nltk.tokenize import word_tokenize\n",
        "from nltk.stem import WordNetLemmatizer\n",
        "from nltk.corpus import stopwords\n",
        "import nltk\n",
        "nltk.download('stopwords')\n",
        "nltk.download('punkt')\n",
        "nltk.download('wordnet')\n",
        "\n",
        "# import os <-- digunakan dlam colab env\n",
        "\n",
        "# collections for counter\n",
        "from collections import Counter\n",
        "\n",
        "# saving files\n",
        "import joblib as joblib\n",
        "\n",
        "# set display\n",
        "pd.options.display.max_colwidth = 2000"
      ]
    },
    {
      "cell_type": "markdown",
      "metadata": {
        "id": "5WVnLJNetgXE"
      },
      "source": [
        "### **B. Data Download and Loading**"
      ]
    },
    {
      "cell_type": "code",
      "execution_count": 45,
      "metadata": {
        "colab": {
          "base_uri": "https://localhost:8080/"
        },
        "id": "wTlXVziwjwE9",
        "outputId": "f56a7aa3-ae52-419f-bae5-4949698ff96c"
      },
      "outputs": [],
      "source": [
        "# this is for colab env\n",
        "# os.environ['KAGGLE_CONFIG_DIR'] = '/content'\n",
        "# !chmod 600 /content/kaggle.json\n",
        "# !kaggle datasets download -d datatattle/email-classification-nlp\n",
        "# !unzip /content/email-classification-nlp.zip"
      ]
    },
    {
      "cell_type": "markdown",
      "metadata": {
        "id": "Nh8R8Nw31a-4"
      },
      "source": [
        "**Create DataFrame**"
      ]
    },
    {
      "cell_type": "code",
      "execution_count": 64,
      "metadata": {
        "colab": {
          "base_uri": "https://localhost:8080/",
          "height": 206
        },
        "id": "bpSQo-KUqQXS",
        "outputId": "dcc604fb-fb63-4940-eb1e-9b1926a3ed95"
      },
      "outputs": [
        {
          "data": {
            "text/html": [
              "<div>\n",
              "<style scoped>\n",
              "    .dataframe tbody tr th:only-of-type {\n",
              "        vertical-align: middle;\n",
              "    }\n",
              "\n",
              "    .dataframe tbody tr th {\n",
              "        vertical-align: top;\n",
              "    }\n",
              "\n",
              "    .dataframe thead th {\n",
              "        text-align: right;\n",
              "    }\n",
              "</style>\n",
              "<table border=\"1\" class=\"dataframe\">\n",
              "  <thead>\n",
              "    <tr style=\"text-align: right;\">\n",
              "      <th></th>\n",
              "      <th>S. No.</th>\n",
              "      <th>Message_body</th>\n",
              "      <th>Label</th>\n",
              "    </tr>\n",
              "  </thead>\n",
              "  <tbody>\n",
              "    <tr>\n",
              "      <th>0</th>\n",
              "      <td>1</td>\n",
              "      <td>Rofl. Its true to its name</td>\n",
              "      <td>Non-Spam</td>\n",
              "    </tr>\n",
              "    <tr>\n",
              "      <th>1</th>\n",
              "      <td>2</td>\n",
              "      <td>The guy did some bitching but I acted like i'd be interested in buying something else next week and he gave it to us for free</td>\n",
              "      <td>Non-Spam</td>\n",
              "    </tr>\n",
              "    <tr>\n",
              "      <th>2</th>\n",
              "      <td>3</td>\n",
              "      <td>Pity, * was in mood for that. So...any other suggestions?</td>\n",
              "      <td>Non-Spam</td>\n",
              "    </tr>\n",
              "    <tr>\n",
              "      <th>3</th>\n",
              "      <td>4</td>\n",
              "      <td>Will ü b going to esplanade fr home?</td>\n",
              "      <td>Non-Spam</td>\n",
              "    </tr>\n",
              "    <tr>\n",
              "      <th>4</th>\n",
              "      <td>5</td>\n",
              "      <td>This is the 2nd time we have tried 2 contact u. U have won the £750 Pound prize. 2 claim is easy, call 087187272008 NOW1! Only 10p per minute. BT-national-rate.</td>\n",
              "      <td>Spam</td>\n",
              "    </tr>\n",
              "  </tbody>\n",
              "</table>\n",
              "</div>"
            ],
            "text/plain": [
              "   S. No.  \\\n",
              "0       1   \n",
              "1       2   \n",
              "2       3   \n",
              "3       4   \n",
              "4       5   \n",
              "\n",
              "                                                                                                                                                       Message_body  \\\n",
              "0                                                                                                                                        Rofl. Its true to its name   \n",
              "1                                     The guy did some bitching but I acted like i'd be interested in buying something else next week and he gave it to us for free   \n",
              "2                                                                                                         Pity, * was in mood for that. So...any other suggestions?   \n",
              "3                                                                                                                              Will ü b going to esplanade fr home?   \n",
              "4  This is the 2nd time we have tried 2 contact u. U have won the £750 Pound prize. 2 claim is easy, call 087187272008 NOW1! Only 10p per minute. BT-national-rate.   \n",
              "\n",
              "      Label  \n",
              "0  Non-Spam  \n",
              "1  Non-Spam  \n",
              "2  Non-Spam  \n",
              "3  Non-Spam  \n",
              "4      Spam  "
            ]
          },
          "execution_count": 64,
          "metadata": {},
          "output_type": "execute_result"
        }
      ],
      "source": [
        "test = pd.read_csv(\"SMS_test.csv\", encoding='latin-1')\n",
        "train = pd.read_csv(\"SMS_train.csv\", encoding='latin-1')\n",
        "df = pd.concat([train, test], axis=0)\n",
        "df.head()"
      ]
    },
    {
      "cell_type": "markdown",
      "metadata": {
        "id": "0ur0mujnZ_KQ"
      },
      "source": [
        "Dataset berisikan text atau isi dari sebuah pesan atau email serta label klasifikasi pesan terkait."
      ]
    },
    {
      "cell_type": "markdown",
      "metadata": {
        "id": "-109RL4JQ8cs"
      },
      "source": [
        "**Dataset Size**"
      ]
    },
    {
      "cell_type": "code",
      "execution_count": 65,
      "metadata": {
        "colab": {
          "base_uri": "https://localhost:8080/"
        },
        "id": "a8Ecg2A7Qhat",
        "outputId": "85a70761-488a-4442-9e5c-290ed69391a9"
      },
      "outputs": [
        {
          "name": "stdout",
          "output_type": "stream",
          "text": [
            "Terdapat 1082 baris dan 3 kolom\n"
          ]
        }
      ],
      "source": [
        "row, column = df.shape\n",
        "print(f\"Terdapat {row} baris dan {column} kolom\")"
      ]
    },
    {
      "cell_type": "markdown",
      "metadata": {},
      "source": [
        "**Missing Value Checking**"
      ]
    },
    {
      "cell_type": "code",
      "execution_count": 66,
      "metadata": {},
      "outputs": [
        {
          "data": {
            "text/plain": [
              "S. No.          0\n",
              "Message_body    0\n",
              "Label           0\n",
              "dtype: int64"
            ]
          },
          "execution_count": 66,
          "metadata": {},
          "output_type": "execute_result"
        }
      ],
      "source": [
        "df.isna().sum()"
      ]
    },
    {
      "cell_type": "markdown",
      "metadata": {},
      "source": [
        "Tidak terdapat missing value pada data."
      ]
    },
    {
      "cell_type": "markdown",
      "metadata": {
        "id": "v2NZK1guXw81"
      },
      "source": [
        "### **C. EDA**"
      ]
    },
    {
      "cell_type": "markdown",
      "metadata": {},
      "source": [
        "Dalam tahap ini, akan lebih terfokus pada eksplorasi:\n",
        "- Perbandingan jumlah antar kategori label\n",
        "- Kosa kata Unique dalam data\n",
        "- Intensitas kemunculan sebuah kata\n",
        "- Anomaly Detection\n",
        "- Stopwords Detection"
      ]
    },
    {
      "cell_type": "markdown",
      "metadata": {
        "id": "Qg9PRRLTX399"
      },
      "source": [
        "##### 1. Perbandingan Jumlah Antar Kategori Label"
      ]
    },
    {
      "cell_type": "code",
      "execution_count": 57,
      "metadata": {
        "colab": {
          "base_uri": "https://localhost:8080/",
          "height": 461
        },
        "id": "4VRAW-g7RFYN",
        "outputId": "24bf6382-a1c4-40f2-f801-13342000a24a"
      },
      "outputs": [
        {
          "name": "stdout",
          "output_type": "stream",
          "text": [
            "Label\n",
            "Non-Spam    884\n",
            "Spam        198\n",
            "Name: count, dtype: int64\n"
          ]
        },
        {
          "data": {
            "image/png": "[encoded data removed]",
            "text/plain": [
              "<Figure size 900x500 with 1 Axes>"
            ]
          },
          "metadata": {},
          "output_type": "display_data"
        }
      ],
      "source": [
        "label_counts = df['Label'].value_counts()\n",
        "\n",
        "fig = plt.figure(figsize=(9,5)) \n",
        "plt.pie(label_counts, autopct='%1.2f%%', labels=label_counts.index,explode=[0,0.1])\n",
        "print(label_counts)\n",
        "plt.show()"
      ]
    },
    {
      "cell_type": "markdown",
      "metadata": {
        "id": "_X4tT-cwY4Yu"
      },
      "source": [
        "Jumlah antara label spam dan non-spam tergolong tidak seimbang dengan perbedaan yang dignifikan. Hal ini bisa menyebabkan lemahnya model dalam mengklasifikasikan kelas spam."
      ]
    },
    {
      "cell_type": "markdown",
      "metadata": {
        "id": "J-WoTWykY4Sm"
      },
      "source": [
        "##### 2. Jumlah Kosa Kata Unique"
      ]
    },
    {
      "cell_type": "code",
      "execution_count": 67,
      "metadata": {
        "id": "ftZ19ycKdQO_"
      },
      "outputs": [],
      "source": [
        "def count_text(text):\n",
        "  '''\n",
        "  Fungsi ini menghitung setiap kata dalam dataframe\n",
        "  '''\n",
        "  text_list = text.str.split()\n",
        "\n",
        "  # list untuk menampung semua kata dalam text dan title\n",
        "  total_texts=[]\n",
        "\n",
        "  # looping untuk setiap kata dalam text\n",
        "  for content in text_list:\n",
        "    for kata in content:\n",
        "      total_texts.append(kata)\n",
        "  total_texts = set(total_texts)\n",
        "  return len(total_texts)"
      ]
    },
    {
      "cell_type": "code",
      "execution_count": 68,
      "metadata": {
        "colab": {
          "base_uri": "https://localhost:8080/"
        },
        "id": "we2Se4JxYJJr",
        "outputId": "593aa6bc-d313-43cf-b056-c36c307bc0a9"
      },
      "outputs": [
        {
          "name": "stdout",
          "output_type": "stream",
          "text": [
            "Total kata Unik di semua kelas:  5523\n",
            "Total kata Unik dalam kelas Non-Spam:  4046\n",
            "Total kata Unik dalam kelas Spam:  1907\n"
          ]
        }
      ],
      "source": [
        "print(\"Total kata Unik di semua kelas: \",count_text(df['Message_body']))\n",
        "print(\"Total kata Unik dalam kelas Non-Spam: \",count_text(df['Message_body'][df['Label']=='Non-Spam']))\n",
        "print(\"Total kata Unik dalam kelas Spam: \",count_text(df['Message_body'][df['Label']=='Spam']))"
      ]
    },
    {
      "cell_type": "markdown",
      "metadata": {
        "id": "cstEfNu0fJLD"
      },
      "source": [
        "Jumlah kata unik dalam kelas spam lebih sedikit dibanding non-spam dikarenakan ketidakseimbangan data. Hal ini juga berpotensi mempengaruhi kinerja model terutama dalam menprediksikan kelas spam."
      ]
    },
    {
      "cell_type": "markdown",
      "metadata": {
        "id": "m47qBScmj3Lt"
      },
      "source": [
        "##### 3. Intensitas Kemunculan Kata"
      ]
    },
    {
      "cell_type": "code",
      "execution_count": 9,
      "metadata": {
        "id": "Cne0e0V7lW3F"
      },
      "outputs": [],
      "source": [
        "def count_occurence(text):\n",
        "\n",
        "  '''\n",
        "  fungsi ini menerima text dalam bentuk kalimat atau paragraf\n",
        "  '''\n",
        "\n",
        "  # menghapus spasi dan memisahkan setiap kata yang terpisah dengan spasi\n",
        "  text_list = text.str.strip().str.split()\n",
        "\n",
        "  # container list\n",
        "  total_texts=[]\n",
        "\n",
        "  # nested loop yang akhirnya masukan setiap kata pada total_texts\n",
        "  for content in text_list:\n",
        "    for kata in content:\n",
        "      total_texts.append(kata)\n",
        "\n",
        "  # stopwords\n",
        "  stopwords_en = list(set(stopwords.words('english')))\n",
        "\n",
        "  # list comprehension untuk setiap kata yang tidak ada pada stopwords\n",
        "  rem_stopwords = [word for word in total_texts if word not in stopwords_en]\n",
        "\n",
        "  # mengembalikan hasil dengan Counter dari collections\n",
        "  return Counter(rem_stopwords)"
      ]
    },
    {
      "cell_type": "code",
      "execution_count": 10,
      "metadata": {
        "id": "r9CjkMXG9DCC"
      },
      "outputs": [],
      "source": [
        "# panggil fungsi di atas dengan memasukan series\n",
        "word_count = count_occurence(df['Message_body'])\n",
        "\n",
        "# panggil fungsi dengan filter\n",
        "non = count_occurence(df['Message_body'][df['Label']=='Non-Spam'])\n",
        "spam = count_occurence(df['Message_body'][df['Label']=='Spam'])"
      ]
    },
    {
      "cell_type": "code",
      "execution_count": 11,
      "metadata": {
        "colab": {
          "base_uri": "https://localhost:8080/",
          "height": 353
        },
        "id": "J_H3HZAlpbTj",
        "outputId": "fd46c0df-7e29-4ad1-80a9-5b8352208a5f"
      },
      "outputs": [
        {
          "data": {
            "image/png": "[encoded data removed]",
            "text/plain": [
              "<Figure size 1500x400 with 3 Axes>"
            ]
          },
          "metadata": {},
          "output_type": "display_data"
        }
      ],
      "source": [
        "# karena hasil fungsi berupa object Counter maka bisa gunakan most_common dan slice 10 value teratas\n",
        "sorted_all = word_count.most_common()[:10]\n",
        "sorted_non = non.most_common()[:10]\n",
        "sorted_spam = spam.most_common()[:10]\n",
        "\n",
        "# list hasil most_common di atas\n",
        "list_sorted = [sorted_all, sorted_non, sorted_spam]\n",
        "\n",
        "# list label\n",
        "name = ['All Data', 'Non-Spam Class', 'Spam Class']\n",
        "\n",
        "# visualisasi\n",
        "figure = plt.figure(figsize=(15,4))\n",
        "for i, sorted in enumerate(list_sorted):\n",
        "  labels, values = zip(*sorted)\n",
        "  plt.subplot(1,3,i+1)\n",
        "  # plot data\n",
        "  plt.barh(labels, values)\n",
        "  plt.xlabel('Count')\n",
        "  plt.title(f'Top 10 Most Common Word {name[i]}')\n",
        "  plt.gca().invert_yaxis()\n",
        "plt.tight_layout()"
      ]
    },
    {
      "cell_type": "markdown",
      "metadata": {
        "id": "21yqrl-H9_wq"
      },
      "source": [
        "Dari chart di atas:\n",
        "- Masih terdapat karakter-karakter yang tidak dibutuhkan seperit dilihat pada chart seperti symbol atau angka. \n",
        "- Kata seperti Call, Free, termasuk kata yang paling sering muncul pada Spam class. Pada non spam, terlihat kata-kata seperti i, u, i'm yang lebih sering muncul. Kata kata tersebut lebih umum ditemukan pada percakapan casual."
      ]
    },
    {
      "cell_type": "markdown",
      "metadata": {
        "id": "UphFMCUXjhQF"
      },
      "source": [
        "##### 4. Anomaly Detection"
      ]
    },
    {
      "cell_type": "markdown",
      "metadata": {
        "id": "axtDBJZqjhQF"
      },
      "source": [
        "Bagian ini akan mendeteksi karakter-karakter spesial yang bukan termasuk a-z atau A-Z. Hal ini termasuk mencari punctuation dan karakter-karakter lain."
      ]
    },
    {
      "cell_type": "code",
      "execution_count": 69,
      "metadata": {
        "id": "raIiSFcEjhQF"
      },
      "outputs": [],
      "source": [
        "def characters(text):\n",
        "    '''\n",
        "    fungsi ini menerima text\n",
        "    '''\n",
        "    # hapus spasi dan pisahkan setiap kata\n",
        "    text_list = text.str.strip().str.split()\n",
        "\n",
        "    # list character a-z dan A-Z dari string\n",
        "    string_list = list(string.ascii_letters)\n",
        "\n",
        "    # containers karakter\n",
        "    char_list = []\n",
        "\n",
        "    # nested loop yang memasukan setiap karakter dalam data\n",
        "    for text in text_list:\n",
        "        for word in text:\n",
        "            for char in word:\n",
        "                # jika karakter tidak ada pada string_list\n",
        "                if char not in string_list:\n",
        "                    char_list.append(char)\n",
        "    \n",
        "    # ubah menjadi set untuk memfilter menjadi unique value\n",
        "    char_set = set(char_list)\n",
        "\n",
        "    # kembalikan set menjadi lis\n",
        "    result = list(char_set)\n",
        "    return result\n"
      ]
    },
    {
      "cell_type": "code",
      "execution_count": 70,
      "metadata": {
        "colab": {
          "base_uri": "https://localhost:8080/"
        },
        "id": "dnkZhYUAjhQG",
        "outputId": "6b6056db-d824-4b16-a308-09aaf580a2b8"
      },
      "outputs": [
        {
          "name": "stdout",
          "output_type": "stream",
          "text": [
            "47\n",
            ", =, *, Ü, , ;, !, ì, 1, 0, <, ?, @, 8, ], ', :, #, ., >, 4, , (, [, |, 9, 2, ú, 3, +, $, 7, &, é, ¡, ,, %, 5, 6, £, -, É, /, ), _, ü, \", "
          ]
        }
      ],
      "source": [
        "unique_char_anomaly = characters(df['Message_body']) # panggil fungsi di atas\n",
        "\n",
        "# print jumlah karakter unik\n",
        "print(len(unique_char_anomaly))\n",
        "\n",
        "# for loop untuk print setiap karakter dipisahkan dengan koma\n",
        "for item in unique_char_anomaly:\n",
        "    print(f\"{item},\",end=' ')"
      ]
    },
    {
      "cell_type": "markdown",
      "metadata": {
        "id": "doBFQWZujhQG"
      },
      "source": [
        "Dari hasil di atas, kita bisa melihat bahwa terdapat 47 unique karakter seperti symbol, angka dan lain sebagainya yang bukan termasuk karakter biasa dari a-z atau A-Z.\n",
        "> Karakter karakter tersebut akan dihilangkan dari data."
      ]
    },
    {
      "cell_type": "markdown",
      "metadata": {
        "id": "zFxhMNgLjhQH"
      },
      "source": [
        "##### 5. Stopwords Detections"
      ]
    },
    {
      "cell_type": "markdown",
      "metadata": {},
      "source": [
        "Dalam Natural Language Processing atau NLP, \"stopwords\" merujuk pada kata-kata yang umumnya dianggap tidak memiliki makna khusus dan sering diabaikan atau dihapus dari teks. Kata-kata ini umumnya adalah kata hubung, kata depan, atau kata umum lainnya yang muncul secara sering dalam bahasa yang tidak memberikan kontribusi signifikan terhadap makna suatu teks.\n",
        "\n",
        "Contoh stopwords dalam bahasa Inggris meliputi kata-kata seperti \"the\", \"and\", \"is\", \"in\", dan sebagainya. Dalam pemrosesan teks, penghapusan stopwords umum dilakukan untuk membersihkan teks dan meningkatkan efisiensi analisis, karena kata-kata ini dianggap tidak membawa banyak informasi penting."
      ]
    },
    {
      "cell_type": "code",
      "execution_count": 71,
      "metadata": {
        "id": "PBKn81vGjhQI"
      },
      "outputs": [],
      "source": [
        "def find_stopwords(text):\n",
        "    '''\n",
        "    fungsi ini menerima text untuk diperiksa apakah sama dengan yang ada di stopwords\n",
        "    '''\n",
        "    # hapus spasi dan pisahkan setiap kata\n",
        "    text_list = text.str.strip().str.split()\n",
        "\n",
        "    # list stopwords\n",
        "    stopwords_en = list(set(stopwords.words('english')))\n",
        "\n",
        "    # tampungan stopwords yang ada pada data\n",
        "    stop = []\n",
        "\n",
        "    # for loop untuk memasukan kata yang sama dengan yang ada pada list stopwords\n",
        "    for text in text_list:\n",
        "        for word in text:\n",
        "            if word in stopwords_en:\n",
        "                stop.append(word)\n",
        "    return stop"
      ]
    },
    {
      "cell_type": "code",
      "execution_count": 72,
      "metadata": {
        "colab": {
          "base_uri": "https://localhost:8080/"
        },
        "id": "IGb3XvYBjhQI",
        "outputId": "451e520f-b836-4796-fac6-db358eaa0906"
      },
      "outputs": [
        {
          "name": "stdout",
          "output_type": "stream",
          "text": [
            "Terdapat sebanyak 4886 atau sebanyak 134 kata stopwords unik pada data \n"
          ]
        }
      ],
      "source": [
        "stop_w = find_stopwords(df['Message_body']) # panggil fungsi\n",
        "\n",
        "# print hasil\n",
        "print(f\"Terdapat sebanyak {len(stop_w)} atau sebanyak {len(set(stop_w))} kata stopwords unik pada data \")"
      ]
    },
    {
      "cell_type": "markdown",
      "metadata": {
        "id": "VRGt3i6hWAfz"
      },
      "source": [
        "Stopwords ditemukan pada data, kata-kata tersebut akan dihilangkan dari data untuk kerperluan pemodelan yang lebih efisien."
      ]
    },
    {
      "cell_type": "markdown",
      "metadata": {
        "id": "hCiOa1SlkO4N"
      },
      "source": [
        "##### 6. Check Duplikat Data"
      ]
    },
    {
      "cell_type": "code",
      "execution_count": 16,
      "metadata": {
        "colab": {
          "base_uri": "https://localhost:8080/"
        },
        "id": "nXhiOlRKkV9z",
        "outputId": "4e630ea0-6b10-429b-9b59-cdbabd115bbf"
      },
      "outputs": [
        {
          "data": {
            "text/plain": [
              "0"
            ]
          },
          "execution_count": 16,
          "metadata": {},
          "output_type": "execute_result"
        }
      ],
      "source": [
        "df.duplicated().sum() # untuk mencari jumlah duplikat data"
      ]
    },
    {
      "cell_type": "markdown",
      "metadata": {
        "id": "tCX_2MTjlSJl"
      },
      "source": [
        "Tidak terdapat beberapa row yang terduplikasi."
      ]
    },
    {
      "cell_type": "markdown",
      "metadata": {
        "id": "eEJYwtwSYtSs"
      },
      "source": [
        "### **D. Data Preprocessing**"
      ]
    },
    {
      "cell_type": "markdown",
      "metadata": {
        "id": "MRwYP3f_jhQJ"
      },
      "source": [
        "Pada bagian ini dilakukan beberapa proses seperti:\n",
        "1. Data Cleaning\n",
        "    - Mengubah setiap kata menjadi lowercase\n",
        "    - Menghapus mention seperti @xxx\n",
        "    - Menghapus new line atau ganti baris\n",
        "    - Menghapus spasi di awal dengan akhir\n",
        "    - Menghapus Url http: atau www.\n",
        "    - Menghapus karakter-karakter spesial\n",
        "    - Menghapus stopwords termasuk kata yang mengandung apostrophe seperti you're, would've dll.\n",
        "    - Tokenisasi dan Lemmatization\n",
        "2. EDA Setelah Data Cleaning\n",
        "3. Data Split\n",
        "4. Vectorization dan Embedding"
      ]
    },
    {
      "cell_type": "markdown",
      "metadata": {
        "id": "YXCpFglojhQK"
      },
      "source": [
        "##### **1. Data Cleaning**"
      ]
    },
    {
      "cell_type": "code",
      "execution_count": 73,
      "metadata": {
        "id": "sMxCVElNjhQL"
      },
      "outputs": [],
      "source": [
        "lemmatizer = WordNetLemmatizer() # lematizer\n",
        "stopwords_en = list(set(stopwords.words('english'))) # stopwords"
      ]
    },
    {
      "cell_type": "code",
      "execution_count": 74,
      "metadata": {
        "id": "WOVY_xJU_Ypv"
      },
      "outputs": [],
      "source": [
        "def text_preprocessing(text):\n",
        "  '''\n",
        "  Fungsi ini mengambil baris perbaris texts yang setiap text akan diproses berdasarkan gambaran di atas.\n",
        "  '''\n",
        "\n",
        "  # lowercasing text\n",
        "  text = text.lower()\n",
        "\n",
        "  # URL removal\n",
        "  text = re.sub(r\"http\\S+\", \" \", text)\n",
        "  text = re.sub(r\"www.\\S+\", \" \", text)\n",
        "\n",
        "  # menghapus mention\n",
        "  text = re.sub(\"@[A-Za-z0-9_]+\", \" \", text)\n",
        "\n",
        "  # menghapus hastag\n",
        "  text = re.sub(\"#[A-Za-z0-9_]+\", \" \", text)\n",
        "\n",
        "  # menghapus new line atau ganti baris\n",
        "  text = re.sub(r\"\\\\n\", \" \",text)\n",
        "\n",
        "  # Non-letter removal (such as emoticon, symbol (like μ, $, 兀), etc\n",
        "  text = re.sub(\"[^A-Za-z\\s']\", \"\", text)\n",
        "\n",
        "  # Whitespace removal\n",
        "  text = text.strip()\n",
        "\n",
        "  # Tokenization\n",
        "  tokens = word_tokenize(text)\n",
        "\n",
        "  # Stopwords removal\n",
        "  tokens = [word for word in tokens if word not in stopwords_en]\n",
        "\n",
        "  # menghapus kata dengan .com\n",
        "  tokens = [word for word in tokens if 'com' not in word]\n",
        "\n",
        "  # menghapus apphostrophe (ditemukan pada beberapa data)\n",
        "  tokens = [word for word in tokens if \"'\" not in word]\n",
        "\n",
        "  # Lemmatize\n",
        "  tokens = [lemmatizer.lemmatize(word) for word in tokens]\n",
        "\n",
        "  # Stopwords removal part 2 karena setelah lematize, bisa memunculkan kata baru yang berupa stopwords\n",
        "  tokens = [word for word in tokens if word not in stopwords_en]\n",
        "\n",
        "  # removing only 2 character word\n",
        "  tokens = [word for word in tokens if len(word)>2]\n",
        "\n",
        "  # Combining Tokens\n",
        "  text = ' '.join(tokens)\n",
        "\n",
        "  return text"
      ]
    },
    {
      "cell_type": "code",
      "execution_count": 75,
      "metadata": {
        "colab": {
          "base_uri": "https://localhost:8080/",
          "height": 112
        },
        "id": "ebzNcqhMjhQM",
        "outputId": "d7cb6f47-930e-4cc3-abe4-d7925c516d33"
      },
      "outputs": [
        {
          "data": {
            "text/html": [
              "<div>\n",
              "<style scoped>\n",
              "    .dataframe tbody tr th:only-of-type {\n",
              "        vertical-align: middle;\n",
              "    }\n",
              "\n",
              "    .dataframe tbody tr th {\n",
              "        vertical-align: top;\n",
              "    }\n",
              "\n",
              "    .dataframe thead th {\n",
              "        text-align: right;\n",
              "    }\n",
              "</style>\n",
              "<table border=\"1\" class=\"dataframe\">\n",
              "  <thead>\n",
              "    <tr style=\"text-align: right;\">\n",
              "      <th></th>\n",
              "      <th>S. No.</th>\n",
              "      <th>Message_body</th>\n",
              "      <th>Label</th>\n",
              "      <th>cleaned</th>\n",
              "    </tr>\n",
              "  </thead>\n",
              "  <tbody>\n",
              "    <tr>\n",
              "      <th>412</th>\n",
              "      <td>413</td>\n",
              "      <td>Sir, I need Velusamy sir's date of birth and company bank facilities details.</td>\n",
              "      <td>Non-Spam</td>\n",
              "      <td>sir need velusamy sir date birth bank facility detail</td>\n",
              "    </tr>\n",
              "    <tr>\n",
              "      <th>143</th>\n",
              "      <td>144</td>\n",
              "      <td>Santa Calling! Would your little ones like a call from Santa Xmas eve? Call 09058094583 to book your time.</td>\n",
              "      <td>Spam</td>\n",
              "      <td>santa calling would little one like call santa xmas eve call book time</td>\n",
              "    </tr>\n",
              "  </tbody>\n",
              "</table>\n",
              "</div>"
            ],
            "text/plain": [
              "     S. No.  \\\n",
              "412     413   \n",
              "143     144   \n",
              "\n",
              "                                                                                                   Message_body  \\\n",
              "412                               Sir, I need Velusamy sir's date of birth and company bank facilities details.   \n",
              "143  Santa Calling! Would your little ones like a call from Santa Xmas eve? Call 09058094583 to book your time.   \n",
              "\n",
              "        Label  \\\n",
              "412  Non-Spam   \n",
              "143      Spam   \n",
              "\n",
              "                                                                    cleaned  \n",
              "412                   sir need velusamy sir date birth bank facility detail  \n",
              "143  santa calling would little one like call santa xmas eve call book time  "
            ]
          },
          "execution_count": 75,
          "metadata": {},
          "output_type": "execute_result"
        }
      ],
      "source": [
        "# menerapkan fungsi di atas pada setiap baris kolom Message_body\n",
        "df['cleaned'] = df['Message_body'].apply(lambda x: text_preprocessing(x))\n",
        "df.sample(2)"
      ]
    },
    {
      "cell_type": "markdown",
      "metadata": {},
      "source": [
        "Terlihat dari sample data, karakter-karakter dan kata yang tidak diperlukan berhasil dihilangkan."
      ]
    },
    {
      "cell_type": "markdown",
      "metadata": {
        "id": "NZR3wOHRjhQe"
      },
      "source": [
        "##### **2. EDA After Cleaning**"
      ]
    },
    {
      "cell_type": "markdown",
      "metadata": {
        "id": "7Yum8kPYjhQf"
      },
      "source": [
        "Jumlah Kosa Kata Unik"
      ]
    },
    {
      "cell_type": "code",
      "execution_count": 20,
      "metadata": {
        "colab": {
          "base_uri": "https://localhost:8080/"
        },
        "id": "mJEbcpwhjhQf",
        "outputId": "78a9b745-1eb0-41fd-df5a-023227f8e9ac"
      },
      "outputs": [
        {
          "name": "stdout",
          "output_type": "stream",
          "text": [
            "Total kata Unik di semua kelas: 5523\n",
            "Total kata Unik dalam kelas Non-Spam: 2275\n",
            "Total kata Unik dalam kelas Spam: 833\n",
            "\n",
            "after pre-processing\n",
            "Total kata Unik di semua kelas: 2826, berkurang 48.83%\n",
            "Total kata Unik dalam kelas Non-Spam: 2275, berkurang 43.77%\n",
            "Total kata Unik dalam kelas Spam: 833, berkurang 56.32%\n"
          ]
        }
      ],
      "source": [
        "# memanggil fungsi countext\n",
        "all_before = count_text(df['Message_body']) \n",
        "# memanggil fungsi countext dengan filter Label\n",
        "non_before = count_text(df['Message_body'][df['Label']=='Non-Spam'])\n",
        "spam_before = count_text(df['Message_body'][df['Label']=='Spam'])\n",
        "\n",
        "# memanggil fungsi countext untuk hasil cleaning\n",
        "all_after = count_text(df['cleaned'])\n",
        "# memanggil fungsi countext dengan filter\n",
        "non_after = count_text(df['cleaned'][df['Label']=='Non-Spam'])\n",
        "spam_after = count_text(df['cleaned'][df['Label']=='Spam'])\n",
        "\n",
        "# print variables di atas\n",
        "print(f\"Total kata Unik di semua kelas: {all_before}\")\n",
        "print(f\"Total kata Unik dalam kelas Non-Spam: {non_after}\")\n",
        "print(f\"Total kata Unik dalam kelas Spam: {spam_after}\")\n",
        "\n",
        "# print data setelah clearning dengan tambahan menghitung persentase data yang berkurang\n",
        "print(\"\\nafter pre-processing\")\n",
        "print(f\"Total kata Unik di semua kelas: {all_after}, berkurang {(all_before-all_after)/all_before*100:.2f}%\")\n",
        "print(f\"Total kata Unik dalam kelas Non-Spam: {non_after}, berkurang {(non_before-non_after)/non_before*100:.2f}%\")\n",
        "print(f\"Total kata Unik dalam kelas Spam: {spam_after}, berkurang {(spam_before-spam_after)/spam_before*100:.2f}%\")"
      ]
    },
    {
      "cell_type": "markdown",
      "metadata": {
        "id": "f4kTXP9xjhQi"
      },
      "source": [
        "Jumlah kata unik dalam data telah berkurang secara signifikan untuk setiap kelas. Dengan berkurangnya data, proses training model akan jauh lebih efisien."
      ]
    },
    {
      "cell_type": "markdown",
      "metadata": {
        "id": "X4gpDLtljhQj"
      },
      "source": [
        "Top 10 Most Common Word"
      ]
    },
    {
      "cell_type": "code",
      "execution_count": 22,
      "metadata": {
        "id": "cjeRIipRjhQk"
      },
      "outputs": [],
      "source": [
        "word_count = count_occurence(df['cleaned']) # panggil kembali fungsi count_occurence\n",
        "\n",
        "# terapkan filter untuk setiap kelas\n",
        "non = count_occurence(df['cleaned'][df['Label']=='Non-Spam'])\n",
        "spam = count_occurence(df['cleaned'][df['Label']=='Spam'])"
      ]
    },
    {
      "cell_type": "code",
      "execution_count": 23,
      "metadata": {
        "colab": {
          "base_uri": "https://localhost:8080/",
          "height": 353
        },
        "id": "rQbSHgNhjhQk",
        "outputId": "bde80b35-09be-44f2-d908-d6b0b6b0fd59"
      },
      "outputs": [
        {
          "data": {
            "image/png": "[encoded data removed]",
            "text/plain": [
              "<Figure size 1500x400 with 3 Axes>"
            ]
          },
          "metadata": {},
          "output_type": "display_data"
        }
      ],
      "source": [
        "# gunakan most_common dari attribute counter object\n",
        "sorted_all = word_count.most_common()[:10]\n",
        "sorted_non = non.most_common()[:10]\n",
        "sorted_spam = spam.most_common()[:10]\n",
        "\n",
        "# masukan variable ke dalam list\n",
        "list_sorted = [sorted_all, sorted_non, sorted_spam]\n",
        "\n",
        "# masukan list label \n",
        "name = ['All Data', 'Non-Spam Class', 'Spam Class']\n",
        "\n",
        "# visualisasi\n",
        "figure = plt.figure(figsize=(15,4))\n",
        "for i, sorted in enumerate(list_sorted):\n",
        "  labels, values = zip(*sorted)\n",
        "  plt.subplot(1,3,i+1)\n",
        "  # plot data\n",
        "  plt.barh(labels, values)\n",
        "  plt.xlabel('Count')\n",
        "  plt.title(f'Top 10 Most Common Word {name[i]}')\n",
        "  plt.gca().invert_yaxis()\n",
        "plt.tight_layout()"
      ]
    },
    {
      "cell_type": "markdown",
      "metadata": {
        "id": "dKdAE6otjhQl"
      },
      "source": [
        "Jika dibandingkan dengan top 10 most common word pada EDA awal, terlihat adanya perbedaan pada top list setiap kategori. Pada spam class terlihat kata yang mendominasi adalah call, free, txt, claim dan lain-lain. Kata-kata tersebut bisa menjadi alasan paling berpengaruh kenapa sebuah email bisa dikategorikan sebagai spam."
      ]
    },
    {
      "cell_type": "markdown",
      "metadata": {
        "id": "95qcOzBTjhQm"
      },
      "source": [
        "Anomaly and Stopwords Detection"
      ]
    },
    {
      "cell_type": "code",
      "execution_count": 24,
      "metadata": {
        "colab": {
          "base_uri": "https://localhost:8080/"
        },
        "id": "pI_ozaw-jhQm",
        "outputId": "eb413a90-56ab-4844-d2fb-c77ffb52506c"
      },
      "outputs": [
        {
          "name": "stdout",
          "output_type": "stream",
          "text": [
            "0\n",
            "Terdapat sebanyak 0 atau sebanyak 0 kata stopwords unik pada data \n"
          ]
        }
      ],
      "source": [
        "unique_char_anomaly = characters(df['cleaned']) # panggil kembali fungsi characters\n",
        "\n",
        "#print unique value\n",
        "print(len(unique_char_anomaly))\n",
        "\n",
        "# cek stop words dan print hasil\n",
        "stop_w = find_stopwords(df['cleaned'])\n",
        "print(f\"Terdapat sebanyak {len(stop_w)} atau sebanyak {len(set(stop_w))} kata stopwords unik pada data \")"
      ]
    },
    {
      "cell_type": "markdown",
      "metadata": {
        "id": "rfdR-gZQjhQm"
      },
      "source": [
        "- Terlihat sudah tidak ada karakter-karakter non-letter pada data yang sudah dibersihkan.\n",
        "- Tidak terdapat stopwords pada text."
      ]
    },
    {
      "cell_type": "markdown",
      "metadata": {
        "id": "skM4CihtjhQn"
      },
      "source": [
        "##### **3. Data Split**"
      ]
    },
    {
      "cell_type": "markdown",
      "metadata": {
        "id": "XwK-0cynjhQn"
      },
      "source": [
        "Dikarenakan vektorisasi dilakukan setelah data splitting, label diubah terlebih dahulu ke dalam binary value 0 dan 1 sebelum data splitting."
      ]
    },
    {
      "cell_type": "code",
      "execution_count": 25,
      "metadata": {
        "colab": {
          "base_uri": "https://localhost:8080/",
          "height": 206
        },
        "id": "8OiRR_y2jhQn",
        "outputId": "e5fdd91e-5672-48c8-af05-d6e3b1010f68"
      },
      "outputs": [
        {
          "data": {
            "text/html": [
              "<div>\n",
              "<style scoped>\n",
              "    .dataframe tbody tr th:only-of-type {\n",
              "        vertical-align: middle;\n",
              "    }\n",
              "\n",
              "    .dataframe tbody tr th {\n",
              "        vertical-align: top;\n",
              "    }\n",
              "\n",
              "    .dataframe thead th {\n",
              "        text-align: right;\n",
              "    }\n",
              "</style>\n",
              "<table border=\"1\" class=\"dataframe\">\n",
              "  <thead>\n",
              "    <tr style=\"text-align: right;\">\n",
              "      <th></th>\n",
              "      <th>Label</th>\n",
              "      <th>target</th>\n",
              "    </tr>\n",
              "  </thead>\n",
              "  <tbody>\n",
              "    <tr>\n",
              "      <th>0</th>\n",
              "      <td>Non-Spam</td>\n",
              "      <td>0</td>\n",
              "    </tr>\n",
              "    <tr>\n",
              "      <th>1</th>\n",
              "      <td>Non-Spam</td>\n",
              "      <td>0</td>\n",
              "    </tr>\n",
              "    <tr>\n",
              "      <th>2</th>\n",
              "      <td>Non-Spam</td>\n",
              "      <td>0</td>\n",
              "    </tr>\n",
              "    <tr>\n",
              "      <th>3</th>\n",
              "      <td>Non-Spam</td>\n",
              "      <td>0</td>\n",
              "    </tr>\n",
              "    <tr>\n",
              "      <th>4</th>\n",
              "      <td>Spam</td>\n",
              "      <td>1</td>\n",
              "    </tr>\n",
              "  </tbody>\n",
              "</table>\n",
              "</div>"
            ],
            "text/plain": [
              "      Label  target\n",
              "0  Non-Spam       0\n",
              "1  Non-Spam       0\n",
              "2  Non-Spam       0\n",
              "3  Non-Spam       0\n",
              "4      Spam       1"
            ]
          },
          "execution_count": 25,
          "metadata": {},
          "output_type": "execute_result"
        }
      ],
      "source": [
        "df['target'] = df['Label'].replace({'Non-Spam' : 0, 'Spam' : 1}) # mengubah vale 0 menjadi Non-spam dan 1 menjadi spam\n",
        "df[['Label','target']].head()"
      ]
    },
    {
      "cell_type": "markdown",
      "metadata": {
        "id": "-p2OgTGIjhQo"
      },
      "source": [
        "Splitting Data"
      ]
    },
    {
      "cell_type": "code",
      "execution_count": 26,
      "metadata": {
        "colab": {
          "base_uri": "https://localhost:8080/"
        },
        "id": "xje9m087jhQo",
        "outputId": "5140f09c-2510-4ad7-cb4a-cf9b4212f009"
      },
      "outputs": [
        {
          "name": "stdout",
          "output_type": "stream",
          "text": [
            "Train Size :  492\n",
            "Val Size   :  211\n",
            "Test Size  :  379\n"
          ]
        }
      ],
      "source": [
        "\n",
        "# split data train dan test validation\n",
        "X_train_val, X_test, y_train_val, y_test = train_test_split(df.cleaned,\n",
        "                                                    df.target,\n",
        "                                                    test_size=0.35,\n",
        "                                                    random_state=20,\n",
        "                                                    stratify=df.target)\n",
        "\n",
        "# Split data train dan test validation\n",
        "X_train, X_val, y_train, y_val = train_test_split(X_train_val,\n",
        "                                                  y_train_val,\n",
        "                                                  test_size=0.3,\n",
        "                                                  random_state=20,\n",
        "                                                  stratify=y_train_val)\n",
        "\n",
        "# print jumlah\n",
        "print('Train Size : ', X_train.shape[0])\n",
        "print('Val Size   : ', X_val.shape[0])\n",
        "print('Test Size  : ', X_test.shape[0])"
      ]
    },
    {
      "cell_type": "markdown",
      "metadata": {
        "id": "fkJI_z7mjhQq"
      },
      "source": [
        "##### **4. Text Vectorization and Embedding**"
      ]
    },
    {
      "cell_type": "code",
      "execution_count": 27,
      "metadata": {
        "colab": {
          "base_uri": "https://localhost:8080/"
        },
        "id": "sBXwKufAjhQq",
        "outputId": "6968e123-15b8-45cd-a0e3-61060bb1a4e2"
      },
      "outputs": [
        {
          "data": {
            "text/plain": [
              "<492x1704 sparse matrix of type '<class 'numpy.int64'>'\n",
              "\twith 3730 stored elements in Compressed Sparse Row format>"
            ]
          },
          "execution_count": 27,
          "metadata": {},
          "output_type": "execute_result"
        }
      ],
      "source": [
        "Vectorize = CountVectorizer() # countvectorizer\n",
        "\n",
        "# fit dan transform\n",
        "X_train_vec = Vectorize.fit_transform(X_train)\n",
        "X_test_vec = Vectorize.transform(X_test)\n",
        "X_train_vec"
      ]
    },
    {
      "cell_type": "code",
      "execution_count": 28,
      "metadata": {
        "colab": {
          "base_uri": "https://localhost:8080/"
        },
        "id": "3CUlt_PMjhQr",
        "outputId": "c72c1bb5-ff02-497e-aec8-3325d89a99ea"
      },
      "outputs": [
        {
          "name": "stdout",
          "output_type": "stream",
          "text": [
            "Total Vocab :  1704\n",
            "Maximum Sentence Length :  30 tokens\n"
          ]
        }
      ],
      "source": [
        "# mengambil jumlah vocabulary\n",
        "total_vocab = len(Vectorize.vocabulary_.keys())\n",
        "\n",
        "# mengambil jumlah kata terbanyak dalam satu kalimat\n",
        "max_sen_len = max([len(i.split(\" \")) for i in X_train])\n",
        "\n",
        "print('Total Vocab : ', total_vocab)\n",
        "print('Maximum Sentence Length : ', max_sen_len, 'tokens')"
      ]
    },
    {
      "cell_type": "code",
      "execution_count": 29,
      "metadata": {
        "id": "TpGiiWwrjhQs"
      },
      "outputs": [],
      "source": [
        "# Text Vectorization\n",
        "text_vectorization = TextVectorization(max_tokens=total_vocab,\n",
        "                                       standardize=\"lower_and_strip_punctuation\",\n",
        "                                       split=\"whitespace\",\n",
        "                                       ngrams=None,\n",
        "                                       output_mode=\"int\",\n",
        "                                       output_sequence_length=max_sen_len,\n",
        "                                       input_shape=(1,))\n",
        "\n",
        "# adapt vecotrization terhadap X_train\n",
        "text_vectorization.adapt(X_train)"
      ]
    },
    {
      "cell_type": "code",
      "execution_count": 30,
      "metadata": {
        "id": "or8Hn-Capb_5"
      },
      "outputs": [],
      "source": [
        "# Embedding\n",
        "embedding = Embedding(input_dim=total_vocab,\n",
        "                      output_dim=64,\n",
        "                      embeddings_initializer=\"uniform\",\n",
        "                      input_length=max_sen_len)"
      ]
    },
    {
      "cell_type": "markdown",
      "metadata": {
        "id": "2wPcc16FYixm"
      },
      "source": [
        "### **E. Model Definition, Training and Evaluation**"
      ]
    },
    {
      "cell_type": "markdown",
      "metadata": {
        "id": "5QUi1L2lZJ53"
      },
      "source": [
        "##### 1. Model 1\n",
        "\n",
        "Model 1 ini menggunakan kombinasi Bidirectional LSTM (Long Short Term Memory) yang terdiri dari:\n",
        "1. Vektorisasi Teks atau Proses mengubah teks menjadi representasi angka, dan proses tokenisasi yang terdapat didalamnya.\n",
        "2. Layer embedding\n",
        "3. Dua layer LSTM (Long Short-Term Memory) yang bersifat bidirectional. LSTM digunakan untuk menangkap pola sekuensial atau urutan dan hubungan jangka panjang dalam teks.\n",
        "4. Dense layer berupa satu ouput the activation sigmoid."
      ]
    },
    {
      "cell_type": "code",
      "execution_count": 32,
      "metadata": {
        "colab": {
          "base_uri": "https://localhost:8080/"
        },
        "id": "2CcGeLRJ9IA1",
        "outputId": "be1823e4-de25-4187-d23f-b947d31a7687"
      },
      "outputs": [
        {
          "name": "stdout",
          "output_type": "stream",
          "text": [
            "Model: \"sequential\"\n",
            "_________________________________________________________________\n",
            " Layer (type)                Output Shape              Param #   \n",
            "=================================================================\n",
            " text_vectorization (TextVec  (None, 30)               0         \n",
            " torization)                                                     \n",
            "                                                                 \n",
            " embedding (Embedding)       (None, 30, 64)            109056    \n",
            "                                                                 \n",
            " bidirectional (Bidirectiona  (None, 30, 64)           24832     \n",
            " l)                                                              \n",
            "                                                                 \n",
            " bidirectional_1 (Bidirectio  (None, 32)               10368     \n",
            " nal)                                                            \n",
            "                                                                 \n",
            " dense (Dense)               (None, 1)                 33        \n",
            "                                                                 \n",
            "=================================================================\n",
            "Total params: 144,289\n",
            "Trainable params: 144,289\n",
            "Non-trainable params: 0\n",
            "_________________________________________________________________\n",
            "Epoch 1/30\n",
            "16/16 [==============================] - 14s 229ms/step - loss: 0.5973 - accuracy: 0.7439 - val_loss: 0.4494 - val_accuracy: 0.8152\n",
            "Epoch 2/30\n",
            "16/16 [==============================] - 1s 63ms/step - loss: 0.4232 - accuracy: 0.8171 - val_loss: 0.4035 - val_accuracy: 0.8152\n",
            "Epoch 3/30\n",
            "16/16 [==============================] - 1s 63ms/step - loss: 0.3281 - accuracy: 0.8171 - val_loss: 0.2959 - val_accuracy: 0.8246\n",
            "Epoch 4/30\n",
            "16/16 [==============================] - 1s 64ms/step - loss: 0.1314 - accuracy: 0.9634 - val_loss: 0.1810 - val_accuracy: 0.9573\n",
            "Epoch 5/30\n",
            "16/16 [==============================] - 1s 64ms/step - loss: 0.0499 - accuracy: 0.9898 - val_loss: 0.2290 - val_accuracy: 0.9431\n",
            "Epoch 6/30\n",
            "16/16 [==============================] - 1s 62ms/step - loss: 0.0358 - accuracy: 0.9898 - val_loss: 0.2306 - val_accuracy: 0.9431\n",
            "Epoch 7/30\n",
            "16/16 [==============================] - 1s 61ms/step - loss: 0.0182 - accuracy: 1.0000 - val_loss: 0.2226 - val_accuracy: 0.9526\n",
            "Epoch 8/30\n",
            "16/16 [==============================] - 1s 68ms/step - loss: 0.0138 - accuracy: 0.9980 - val_loss: 0.2491 - val_accuracy: 0.9526\n",
            "Epoch 9/30\n",
            "16/16 [==============================] - 1s 64ms/step - loss: 0.0071 - accuracy: 1.0000 - val_loss: 0.2574 - val_accuracy: 0.9526\n",
            "Epoch 10/30\n",
            "16/16 [==============================] - 1s 62ms/step - loss: 0.0050 - accuracy: 1.0000 - val_loss: 0.2705 - val_accuracy: 0.9526\n",
            "Epoch 11/30\n",
            "16/16 [==============================] - 1s 62ms/step - loss: 0.0040 - accuracy: 1.0000 - val_loss: 0.2924 - val_accuracy: 0.9526\n",
            "Epoch 12/30\n",
            "16/16 [==============================] - 1s 64ms/step - loss: 0.0027 - accuracy: 1.0000 - val_loss: 0.3029 - val_accuracy: 0.9431\n",
            "Epoch 13/30\n",
            "16/16 [==============================] - 1s 64ms/step - loss: 0.0022 - accuracy: 1.0000 - val_loss: 0.3137 - val_accuracy: 0.9431\n",
            "Epoch 14/30\n",
            "16/16 [==============================] - 1s 67ms/step - loss: 0.0018 - accuracy: 1.0000 - val_loss: 0.3235 - val_accuracy: 0.9431\n",
            "Epoch 15/30\n",
            "16/16 [==============================] - 1s 62ms/step - loss: 0.0015 - accuracy: 1.0000 - val_loss: 0.3347 - val_accuracy: 0.9431\n",
            "Epoch 16/30\n",
            "16/16 [==============================] - 1s 63ms/step - loss: 0.0012 - accuracy: 1.0000 - val_loss: 0.3451 - val_accuracy: 0.9431\n",
            "Epoch 17/30\n",
            "16/16 [==============================] - 1s 65ms/step - loss: 0.0010 - accuracy: 1.0000 - val_loss: 0.3574 - val_accuracy: 0.9431\n",
            "Epoch 18/30\n",
            "16/16 [==============================] - 1s 63ms/step - loss: 8.9551e-04 - accuracy: 1.0000 - val_loss: 0.3695 - val_accuracy: 0.9431\n",
            "Epoch 19/30\n",
            "16/16 [==============================] - 1s 62ms/step - loss: 7.8657e-04 - accuracy: 1.0000 - val_loss: 0.3807 - val_accuracy: 0.9431\n",
            "Epoch 20/30\n",
            "16/16 [==============================] - 1s 65ms/step - loss: 7.0319e-04 - accuracy: 1.0000 - val_loss: 0.3904 - val_accuracy: 0.9431\n",
            "Epoch 21/30\n",
            "16/16 [==============================] - 1s 67ms/step - loss: 6.3757e-04 - accuracy: 1.0000 - val_loss: 0.3987 - val_accuracy: 0.9431\n",
            "Epoch 22/30\n",
            "16/16 [==============================] - 1s 65ms/step - loss: 5.8497e-04 - accuracy: 1.0000 - val_loss: 0.4056 - val_accuracy: 0.9384\n",
            "Epoch 23/30\n",
            "16/16 [==============================] - 1s 61ms/step - loss: 5.4052e-04 - accuracy: 1.0000 - val_loss: 0.4113 - val_accuracy: 0.9384\n",
            "Epoch 24/30\n",
            "16/16 [==============================] - 1s 62ms/step - loss: 5.0294e-04 - accuracy: 1.0000 - val_loss: 0.4162 - val_accuracy: 0.9384\n",
            "Epoch 25/30\n",
            "16/16 [==============================] - 1s 60ms/step - loss: 4.7027e-04 - accuracy: 1.0000 - val_loss: 0.4209 - val_accuracy: 0.9384\n",
            "Epoch 26/30\n",
            "16/16 [==============================] - 1s 60ms/step - loss: 4.4189e-04 - accuracy: 1.0000 - val_loss: 0.4249 - val_accuracy: 0.9384\n",
            "Epoch 27/30\n",
            "16/16 [==============================] - 1s 62ms/step - loss: 4.1644e-04 - accuracy: 1.0000 - val_loss: 0.4289 - val_accuracy: 0.9384\n",
            "Epoch 28/30\n",
            "16/16 [==============================] - 1s 72ms/step - loss: 3.9390e-04 - accuracy: 1.0000 - val_loss: 0.4324 - val_accuracy: 0.9384\n",
            "Epoch 29/30\n",
            "16/16 [==============================] - 1s 87ms/step - loss: 3.7351e-04 - accuracy: 1.0000 - val_loss: 0.4358 - val_accuracy: 0.9384\n",
            "Epoch 30/30\n",
            "16/16 [==============================] - 1s 66ms/step - loss: 3.5514e-04 - accuracy: 1.0000 - val_loss: 0.4392 - val_accuracy: 0.9384\n"
          ]
        }
      ],
      "source": [
        "## Clear Session\n",
        "seed = 20\n",
        "tf.keras.backend.clear_session()\n",
        "np.random.seed(seed)\n",
        "tf.random.set_seed(seed)\n",
        "\n",
        "## Define the architecture\n",
        "model_lstm = Sequential()\n",
        "model_lstm.add(text_vectorization)\n",
        "model_lstm.add(embedding)\n",
        "model_lstm.add(Bidirectional(LSTM(32,return_sequences=True, kernel_initializer=tf.keras.initializers.GlorotUniform(seed))))\n",
        "model_lstm.add(Bidirectional(LSTM(16,kernel_initializer=tf.keras.initializers.GlorotUniform(seed))))\n",
        "model_lstm.add(Dense(1, activation='sigmoid'))\n",
        "\n",
        "model_lstm.compile(loss='binary_crossentropy', optimizer='adam', metrics=['accuracy'])\n",
        "model_lstm.summary()\n",
        "model_lstm_hist = model_lstm.fit(X_train, y_train, epochs=30, validation_data=(X_val, y_val))"
      ]
    },
    {
      "cell_type": "code",
      "execution_count": 33,
      "metadata": {
        "colab": {
          "base_uri": "https://localhost:8080/",
          "height": 468
        },
        "id": "3c0mA-XX-jPf",
        "outputId": "59b4d667-3398-4455-9024-e53dd7303700"
      },
      "outputs": [
        {
          "data": {
            "image/png": "[encoded data removed]",
            "text/plain": [
              "<Figure size 1500x500 with 2 Axes>"
            ]
          },
          "metadata": {},
          "output_type": "display_data"
        }
      ],
      "source": [
        "# plotting loss dan loss val serta accuracy \n",
        "history_df = pd.DataFrame(model_lstm_hist.history)\n",
        "\n",
        "plt.figure(figsize=(15,5))\n",
        "plt.subplot(1,2,1)\n",
        "sns.lineplot(data=history_df[['loss','val_loss']])\n",
        "plt.grid(True)\n",
        "plt.title(\"Loss vs Val Loss\")\n",
        "\n",
        "plt.subplot(1,2,2)\n",
        "sns.lineplot(data=history_df[['accuracy','val_accuracy']])\n",
        "plt.grid(True)\n",
        "plt.title(\"Accuracy vs Val Accuracy\")\n",
        "plt.show()"
      ]
    },
    {
      "cell_type": "markdown",
      "metadata": {
        "id": "avk9YxGxZuMG"
      },
      "source": [
        "Terlihat pada hasil graph:\n",
        "- Validation loss cenderung mengalami kenaikan setelah melalui epoch 20 dan terdapat perbedaan yang cukup signifikan antara loss dan validation loss yang menandakan model cenderung mengalami overfit.\n",
        "- Pada chart accuracy, kedua nilai accuracy berjalan sejajar setelah epoch 14 atau 15 dengan gap sekitar 0.05. Ini menandakan adanya masalah kinerja generalisasi model."
      ]
    },
    {
      "cell_type": "markdown",
      "metadata": {
        "id": "n2t7TN2IlvG-"
      },
      "source": [
        "##### 2. Model 2 - Improvement\n",
        "Model improvement ini memodifikasi model 1 dimana dropout ditambahkan untuk setiap bidirectional LSTM layer, dan ditambahkan juga regularisasi l2 atau Ridge Regression. Pada model ini juga diterapkan callback yaitu early stopping dengan patience 5 yang berarti training akan berhenti setelah mengalami 5 epoch tanpa improvement lalu model akan mengembalikan weights terbaik."
      ]
    },
    {
      "cell_type": "code",
      "execution_count": 34,
      "metadata": {
        "colab": {
          "base_uri": "https://localhost:8080/"
        },
        "id": "77rjwvx4jhQt",
        "outputId": "cc41da4f-e533-4ea0-f743-22f84e045902"
      },
      "outputs": [
        {
          "name": "stdout",
          "output_type": "stream",
          "text": [
            "Model: \"sequential\"\n",
            "_________________________________________________________________\n",
            " Layer (type)                Output Shape              Param #   \n",
            "=================================================================\n",
            " text_vectorization (TextVec  (None, 30)               0         \n",
            " torization)                                                     \n",
            "                                                                 \n",
            " embedding (Embedding)       (None, 30, 64)            109056    \n",
            "                                                                 \n",
            " bidirectional (Bidirectiona  (None, 30, 32)           10368     \n",
            " l)                                                              \n",
            "                                                                 \n",
            " dropout (Dropout)           (None, 30, 32)            0         \n",
            "                                                                 \n",
            " bidirectional_1 (Bidirectio  (None, 16)               2624      \n",
            " nal)                                                            \n",
            "                                                                 \n",
            " dropout_1 (Dropout)         (None, 16)                0         \n",
            "                                                                 \n",
            " dense (Dense)               (None, 1)                 17        \n",
            "                                                                 \n",
            "=================================================================\n",
            "Total params: 122,065\n",
            "Trainable params: 122,065\n",
            "Non-trainable params: 0\n",
            "_________________________________________________________________\n",
            "Epoch 1/30\n",
            "16/16 [==============================] - 13s 199ms/step - loss: 2.4067 - accuracy: 0.7419 - val_loss: 2.1460 - val_accuracy: 0.8152\n",
            "Epoch 2/30\n",
            "16/16 [==============================] - 1s 54ms/step - loss: 1.9446 - accuracy: 0.8150 - val_loss: 1.7434 - val_accuracy: 0.8152\n",
            "Epoch 3/30\n",
            "16/16 [==============================] - 1s 54ms/step - loss: 1.5951 - accuracy: 0.8171 - val_loss: 1.4542 - val_accuracy: 0.8152\n",
            "Epoch 4/30\n",
            "16/16 [==============================] - 1s 59ms/step - loss: 1.2777 - accuracy: 0.8577 - val_loss: 1.1656 - val_accuracy: 0.8768\n",
            "Epoch 5/30\n",
            "16/16 [==============================] - 1s 56ms/step - loss: 0.9731 - accuracy: 0.9837 - val_loss: 0.9353 - val_accuracy: 0.9336\n",
            "Epoch 6/30\n",
            "16/16 [==============================] - 1s 54ms/step - loss: 0.7524 - accuracy: 0.9980 - val_loss: 0.7947 - val_accuracy: 0.9431\n",
            "Epoch 7/30\n",
            "16/16 [==============================] - 1s 54ms/step - loss: 0.6046 - accuracy: 0.9980 - val_loss: 0.6781 - val_accuracy: 0.9573\n",
            "Epoch 8/30\n",
            "16/16 [==============================] - 1s 54ms/step - loss: 0.4837 - accuracy: 0.9980 - val_loss: 0.5933 - val_accuracy: 0.9573\n",
            "Epoch 9/30\n",
            "16/16 [==============================] - 1s 57ms/step - loss: 0.3909 - accuracy: 0.9980 - val_loss: 0.5139 - val_accuracy: 0.9479\n",
            "Epoch 10/30\n",
            "16/16 [==============================] - 1s 57ms/step - loss: 0.3156 - accuracy: 1.0000 - val_loss: 0.4661 - val_accuracy: 0.9526\n",
            "Epoch 11/30\n",
            "16/16 [==============================] - 1s 54ms/step - loss: 0.2552 - accuracy: 1.0000 - val_loss: 0.4252 - val_accuracy: 0.9526\n",
            "Epoch 12/30\n",
            "16/16 [==============================] - 1s 57ms/step - loss: 0.2097 - accuracy: 1.0000 - val_loss: 0.3889 - val_accuracy: 0.9479\n",
            "Epoch 13/30\n",
            "16/16 [==============================] - 1s 54ms/step - loss: 0.1709 - accuracy: 1.0000 - val_loss: 0.3610 - val_accuracy: 0.9479\n",
            "Epoch 14/30\n",
            "16/16 [==============================] - 1s 53ms/step - loss: 0.1414 - accuracy: 1.0000 - val_loss: 0.3401 - val_accuracy: 0.9479\n",
            "Epoch 15/30\n",
            "16/16 [==============================] - 1s 54ms/step - loss: 0.1145 - accuracy: 1.0000 - val_loss: 0.3242 - val_accuracy: 0.9526\n",
            "Epoch 16/30\n",
            "16/16 [==============================] - 1s 54ms/step - loss: 0.0959 - accuracy: 1.0000 - val_loss: 0.3111 - val_accuracy: 0.9526\n",
            "Epoch 17/30\n",
            "16/16 [==============================] - 1s 55ms/step - loss: 0.0777 - accuracy: 1.0000 - val_loss: 0.3025 - val_accuracy: 0.9526\n",
            "Epoch 18/30\n",
            "16/16 [==============================] - 1s 53ms/step - loss: 0.0636 - accuracy: 1.0000 - val_loss: 0.2990 - val_accuracy: 0.9479\n",
            "Epoch 19/30\n",
            "16/16 [==============================] - 1s 54ms/step - loss: 0.0555 - accuracy: 1.0000 - val_loss: 0.2972 - val_accuracy: 0.9479\n",
            "Epoch 20/30\n",
            "16/16 [==============================] - 1s 54ms/step - loss: 0.0458 - accuracy: 1.0000 - val_loss: 0.2932 - val_accuracy: 0.9479\n",
            "Epoch 21/30\n",
            "16/16 [==============================] - 1s 53ms/step - loss: 0.0390 - accuracy: 1.0000 - val_loss: 0.2933 - val_accuracy: 0.9479\n",
            "Epoch 22/30\n",
            "16/16 [==============================] - 1s 56ms/step - loss: 0.0333 - accuracy: 1.0000 - val_loss: 0.2940 - val_accuracy: 0.9479\n",
            "Epoch 23/30\n",
            "16/16 [==============================] - 1s 53ms/step - loss: 0.0289 - accuracy: 1.0000 - val_loss: 0.2966 - val_accuracy: 0.9479\n",
            "Epoch 24/30\n",
            "16/16 [==============================] - 1s 53ms/step - loss: 0.0262 - accuracy: 1.0000 - val_loss: 0.2960 - val_accuracy: 0.9479\n",
            "Epoch 25/30\n",
            "16/16 [==============================] - 1s 56ms/step - loss: 0.0225 - accuracy: 1.0000 - val_loss: 0.2983 - val_accuracy: 0.9479\n"
          ]
        }
      ],
      "source": [
        "\n",
        "## Clear Session\n",
        "seed = 20\n",
        "tf.keras.backend.clear_session()\n",
        "np.random.seed(seed)\n",
        "tf.random.set_seed(seed)\n",
        "\n",
        "early_stopping_callback = EarlyStopping(monitor='val_loss', patience=5, restore_best_weights=True)\n",
        "## Define the architecture\n",
        "model_imv = Sequential()\n",
        "model_imv.add(text_vectorization)\n",
        "model_imv.add(embedding)\n",
        "model_imv.add(Bidirectional(LSTM(16,return_sequences=True, kernel_initializer=tf.keras.initializers.GlorotUniform(seed),kernel_regularizer=tf.keras.regularizers.L2(0.01))))\n",
        "model_imv.add(Dropout(0.3))\n",
        "model_imv.add(Bidirectional(LSTM(8,kernel_initializer=tf.keras.initializers.GlorotUniform(seed),kernel_regularizer=tf.keras.regularizers.L2(0.01))))\n",
        "model_imv.add(Dropout(0.3))\n",
        "model_imv.add(Dense(1, activation='sigmoid'))\n",
        "\n",
        "\n",
        "model_imv.compile(loss='binary_crossentropy', optimizer='adam', metrics=['accuracy'])\n",
        "model_imv.summary()\n",
        "model_imv_hist = model_imv.fit(X_train, y_train, epochs=30, validation_data=(X_val, y_val),callbacks=[early_stopping_callback])"
      ]
    },
    {
      "cell_type": "code",
      "execution_count": 35,
      "metadata": {
        "colab": {
          "base_uri": "https://localhost:8080/",
          "height": 468
        },
        "id": "8mDnWb2RjhQu",
        "outputId": "cef510a5-fb8c-4346-eb71-257a48ce818b"
      },
      "outputs": [
        {
          "data": {
            "image/png": "[encoded data removed]",
            "text/plain": [
              "<Figure size 1500x500 with 2 Axes>"
            ]
          },
          "metadata": {},
          "output_type": "display_data"
        }
      ],
      "source": [
        "history_df = pd.DataFrame(model_imv_hist.history)\n",
        "\n",
        "plt.figure(figsize=(15,5))\n",
        "plt.subplot(1,2,1)\n",
        "sns.lineplot(data=history_df[['loss','val_loss']])\n",
        "plt.grid(True)\n",
        "plt.title(\"Loss vs Val Loss\")\n",
        "\n",
        "plt.subplot(1,2,2)\n",
        "sns.lineplot(data=history_df[['accuracy','val_accuracy']])\n",
        "plt.grid(True)\n",
        "plt.title(\"Accuracy vs Val Accuracy\")\n",
        "plt.show()"
      ]
    },
    {
      "cell_type": "markdown",
      "metadata": {
        "id": "C-eGhFo1m8Wp"
      },
      "source": [
        "Dari hasil model 2, bisa dilihat bahwa:\n",
        "1. Nilai loss vs val loss menunjukan arah yang sama seiring dengan bertambahnya epoch. Nilai loss yang semakin menurun menunjukan bahwa mesin belajar mengurangi kesalan secara bertahap. Model hampir menunjukan konvergensi andai saja perbedaan tidak terlalu besar.\n",
        "2. Pada chart accuracy, hasil model kedua ini serupa dengan model pertama. Dimana nilai cukup sejajar dan terdapat gap yang konstan di antara kedua nilai accuracy.\n",
        "3. Masih terdapat adanya indikasi overfitting. Meskipun begitu, model menunjukan perbaikan dibanding model pertama."
      ]
    },
    {
      "cell_type": "markdown",
      "metadata": {
        "id": "ZZhaajs6ngg5"
      },
      "source": [
        "##### 3. Transfer Learning"
      ]
    },
    {
      "cell_type": "markdown",
      "metadata": {
        "id": "K8N-7liWo6OF"
      },
      "source": [
        "Dibagian transfer learning, pre-trained model yang digunakan adalah Neural-Net Language Models (dari Google) variasi english dengan 128 dimensi. Tujuan utama NNLM adalah memahami hubungan antar kata dan menghasilkan representasi vektor kata yang menyimpan informasi tentang struktur dan arti kata-kata tersebut."
      ]
    },
    {
      "cell_type": "code",
      "execution_count": 36,
      "metadata": {
        "id": "GSZNdu1jp1nF"
      },
      "outputs": [],
      "source": [
        "# url NNLM\n",
        "url = 'https://www.kaggle.com/models/google/nnlm/frameworks/TensorFlow2/variations/tf2-preview-en-dim128-with-normalization/versions/1'\n",
        "# definisi hub_layer\n",
        "hub_layer = tf_hub.KerasLayer(url, output_shape=[128], input_shape=[], dtype=tf.string)"
      ]
    },
    {
      "cell_type": "code",
      "execution_count": 37,
      "metadata": {
        "colab": {
          "base_uri": "https://localhost:8080/"
        },
        "id": "KT7VOiqjrdB2",
        "outputId": "f5fb8a3e-c160-4e9a-d543-d78374b1e50f"
      },
      "outputs": [
        {
          "name": "stdout",
          "output_type": "stream",
          "text": [
            "Model: \"sequential\"\n",
            "_________________________________________________________________\n",
            " Layer (type)                Output Shape              Param #   \n",
            "=================================================================\n",
            " keras_layer (KerasLayer)    (None, 128)               124642688 \n",
            "                                                                 \n",
            " reshape (Reshape)           (None, 128, 1)            0         \n",
            "                                                                 \n",
            " bidirectional (Bidirectiona  (None, 128, 32)          2304      \n",
            " l)                                                              \n",
            "                                                                 \n",
            " dropout (Dropout)           (None, 128, 32)           0         \n",
            "                                                                 \n",
            " bidirectional_1 (Bidirectio  (None, 16)               2624      \n",
            " nal)                                                            \n",
            "                                                                 \n",
            " dropout_1 (Dropout)         (None, 16)                0         \n",
            "                                                                 \n",
            " dense (Dense)               (None, 1)                 17        \n",
            "                                                                 \n",
            "=================================================================\n",
            "Total params: 124,647,633\n",
            "Trainable params: 4,945\n",
            "Non-trainable params: 124,642,688\n",
            "_________________________________________________________________\n",
            "Epoch 1/30\n",
            "16/16 [==============================] - 14s 301ms/step - loss: 0.6451 - accuracy: 0.7988 - val_loss: 0.5757 - val_accuracy: 0.8152\n",
            "Epoch 2/30\n",
            "16/16 [==============================] - 3s 167ms/step - loss: 0.5116 - accuracy: 0.8171 - val_loss: 0.4802 - val_accuracy: 0.8152\n",
            "Epoch 3/30\n",
            "16/16 [==============================] - 3s 167ms/step - loss: 0.4771 - accuracy: 0.8171 - val_loss: 0.4809 - val_accuracy: 0.8152\n",
            "Epoch 4/30\n",
            "16/16 [==============================] - 3s 166ms/step - loss: 0.4804 - accuracy: 0.8171 - val_loss: 0.4784 - val_accuracy: 0.8152\n",
            "Epoch 5/30\n",
            "16/16 [==============================] - 3s 178ms/step - loss: 0.4801 - accuracy: 0.8171 - val_loss: 0.4781 - val_accuracy: 0.8152\n",
            "Epoch 6/30\n",
            "16/16 [==============================] - 3s 177ms/step - loss: 0.4742 - accuracy: 0.8171 - val_loss: 0.4780 - val_accuracy: 0.8152\n",
            "Epoch 7/30\n",
            "16/16 [==============================] - 3s 168ms/step - loss: 0.4743 - accuracy: 0.8171 - val_loss: 0.4780 - val_accuracy: 0.8152\n",
            "Epoch 8/30\n",
            "16/16 [==============================] - 3s 164ms/step - loss: 0.4777 - accuracy: 0.8171 - val_loss: 0.4780 - val_accuracy: 0.8152\n",
            "Epoch 9/30\n",
            "16/16 [==============================] - 3s 166ms/step - loss: 0.4744 - accuracy: 0.8171 - val_loss: 0.4777 - val_accuracy: 0.8152\n",
            "Epoch 10/30\n",
            "16/16 [==============================] - 3s 176ms/step - loss: 0.4801 - accuracy: 0.8171 - val_loss: 0.4775 - val_accuracy: 0.8152\n",
            "Epoch 11/30\n",
            "16/16 [==============================] - 3s 169ms/step - loss: 0.4791 - accuracy: 0.8171 - val_loss: 0.4775 - val_accuracy: 0.8152\n",
            "Epoch 12/30\n",
            "16/16 [==============================] - 3s 166ms/step - loss: 0.4721 - accuracy: 0.8171 - val_loss: 0.4772 - val_accuracy: 0.8152\n",
            "Epoch 13/30\n",
            "16/16 [==============================] - 3s 165ms/step - loss: 0.4781 - accuracy: 0.8171 - val_loss: 0.4770 - val_accuracy: 0.8152\n",
            "Epoch 14/30\n",
            "16/16 [==============================] - 3s 167ms/step - loss: 0.4749 - accuracy: 0.8171 - val_loss: 0.4767 - val_accuracy: 0.8152\n",
            "Epoch 15/30\n",
            "16/16 [==============================] - 3s 170ms/step - loss: 0.4827 - accuracy: 0.8171 - val_loss: 0.4773 - val_accuracy: 0.8152\n",
            "Epoch 16/30\n",
            "16/16 [==============================] - 3s 170ms/step - loss: 0.4776 - accuracy: 0.8171 - val_loss: 0.4761 - val_accuracy: 0.8152\n",
            "Epoch 17/30\n",
            "16/16 [==============================] - 3s 165ms/step - loss: 0.4780 - accuracy: 0.8171 - val_loss: 0.4757 - val_accuracy: 0.8152\n",
            "Epoch 18/30\n",
            "16/16 [==============================] - 3s 167ms/step - loss: 0.4772 - accuracy: 0.8171 - val_loss: 0.4752 - val_accuracy: 0.8152\n",
            "Epoch 19/30\n",
            "16/16 [==============================] - 3s 169ms/step - loss: 0.4725 - accuracy: 0.8171 - val_loss: 0.4745 - val_accuracy: 0.8152\n",
            "Epoch 20/30\n",
            "16/16 [==============================] - 3s 165ms/step - loss: 0.4786 - accuracy: 0.8171 - val_loss: 0.4737 - val_accuracy: 0.8152\n",
            "Epoch 21/30\n",
            "16/16 [==============================] - 3s 169ms/step - loss: 0.4711 - accuracy: 0.8171 - val_loss: 0.4725 - val_accuracy: 0.8152\n",
            "Epoch 22/30\n",
            "16/16 [==============================] - 3s 166ms/step - loss: 0.4718 - accuracy: 0.8171 - val_loss: 0.4711 - val_accuracy: 0.8152\n",
            "Epoch 23/30\n",
            "16/16 [==============================] - 3s 167ms/step - loss: 0.4734 - accuracy: 0.8171 - val_loss: 0.4702 - val_accuracy: 0.8152\n",
            "Epoch 24/30\n",
            "16/16 [==============================] - 3s 167ms/step - loss: 0.4733 - accuracy: 0.8171 - val_loss: 0.4673 - val_accuracy: 0.8152\n",
            "Epoch 25/30\n",
            "16/16 [==============================] - 3s 173ms/step - loss: 0.4739 - accuracy: 0.8171 - val_loss: 0.4657 - val_accuracy: 0.8152\n",
            "Epoch 26/30\n",
            "16/16 [==============================] - 3s 168ms/step - loss: 0.4595 - accuracy: 0.8171 - val_loss: 0.4626 - val_accuracy: 0.8152\n",
            "Epoch 27/30\n",
            "16/16 [==============================] - 3s 172ms/step - loss: 0.4617 - accuracy: 0.8171 - val_loss: 0.4579 - val_accuracy: 0.8152\n",
            "Epoch 28/30\n",
            "16/16 [==============================] - 3s 170ms/step - loss: 0.4646 - accuracy: 0.8171 - val_loss: 0.4554 - val_accuracy: 0.8152\n",
            "Epoch 29/30\n",
            "16/16 [==============================] - 3s 173ms/step - loss: 0.4535 - accuracy: 0.8171 - val_loss: 0.4682 - val_accuracy: 0.8152\n",
            "Epoch 30/30\n",
            "16/16 [==============================] - 3s 174ms/step - loss: 0.4427 - accuracy: 0.8171 - val_loss: 0.4513 - val_accuracy: 0.8152\n"
          ]
        }
      ],
      "source": [
        "## Clear Session\n",
        "seed = 20\n",
        "tf.keras.backend.clear_session()\n",
        "np.random.seed(seed)\n",
        "tf.random.set_seed(seed)\n",
        "\n",
        "## Define the architecture\n",
        "model_tf = Sequential()\n",
        "model_tf.add(hub_layer)\n",
        "model_tf.add(Reshape((128,1)))\n",
        "# model_tf.add(text_vectorization)\n",
        "model_tf.add(Bidirectional(LSTM(16,return_sequences=True, kernel_initializer=tf.keras.initializers.GlorotUniform(seed))))\n",
        "model_tf.add(Dropout(0.1))\n",
        "model_tf.add(Bidirectional(LSTM(8, kernel_initializer=tf.keras.initializers.GlorotUniform(seed))))\n",
        "model_tf.add(Dropout(0.1))\n",
        "model_tf.add(Dense(1, activation='sigmoid'))\n",
        "\n",
        "# compile and summary\n",
        "model_tf.compile(loss='binary_crossentropy', optimizer='adam', metrics=['accuracy'])\n",
        "model_tf.summary()\n",
        "\n",
        "# fit in history\n",
        "model_tf_hist = model_tf.fit(X_train, y_train, epochs=30, validation_data=(X_val, y_val))"
      ]
    },
    {
      "cell_type": "code",
      "execution_count": 38,
      "metadata": {
        "colab": {
          "base_uri": "https://localhost:8080/",
          "height": 468
        },
        "id": "arw9eMf1sA_N",
        "outputId": "2d6caeed-7d12-4edd-dcea-1ac8bbb030eb"
      },
      "outputs": [
        {
          "data": {
            "image/png": "[encoded data removed]",
            "text/plain": [
              "<Figure size 1500x500 with 2 Axes>"
            ]
          },
          "metadata": {},
          "output_type": "display_data"
        }
      ],
      "source": [
        "history_df = pd.DataFrame(model_tf_hist.history)\n",
        "\n",
        "plt.figure(figsize=(15,5))\n",
        "plt.subplot(1,2,1)\n",
        "sns.lineplot(data=history_df[['loss','val_loss']])\n",
        "plt.grid(True)\n",
        "plt.title(\"Loss vs Val Loss\")\n",
        "\n",
        "plt.subplot(1,2,2)\n",
        "sns.lineplot(data=history_df[['accuracy','val_accuracy']])\n",
        "plt.grid(True)\n",
        "plt.title(\"Accuracy vs Val Accuracy\")\n",
        "plt.show()"
      ]
    },
    {
      "cell_type": "markdown",
      "metadata": {
        "id": "fK7iVZJj0FUs"
      },
      "source": [
        "- Nilai loss dan val loss tidak memiliki perbedaan yang terlalu siginifikan. \n",
        "- Nilai accuracy juga menujukan adanya pola yang konstan. Accuracy dan validation accuaracy sama-sama bergerak dengan arah yang sama dengan nilai yang tidak jauh berbeda. Hail ini bisa mengindikasikan adanya masalah generalisasi pada model. \n",
        "- Masih belum bisa dipastikan apakah model transfer learning ini lebih baik dari kedua model pertama. "
      ]
    },
    {
      "cell_type": "markdown",
      "metadata": {
        "id": "cw8d9zwA1h4c"
      },
      "source": [
        "##### 4. Model Predictions and Evaluation"
      ]
    },
    {
      "cell_type": "markdown",
      "metadata": {
        "id": "r34mlBMYbjhQ"
      },
      "source": [
        "**Model LSTM 1**"
      ]
    },
    {
      "cell_type": "code",
      "execution_count": 40,
      "metadata": {
        "colab": {
          "base_uri": "https://localhost:8080/"
        },
        "id": "B_wMRt6Z2K6I",
        "outputId": "94f78ee7-7ef5-4d73-bb0e-e809c496a749"
      },
      "outputs": [
        {
          "name": "stdout",
          "output_type": "stream",
          "text": [
            "16/16 [==============================] - 3s 14ms/step\n",
            "12/12 [==============================] - 0s 15ms/step\n",
            "Train Data:\n",
            "              precision    recall  f1-score   support\n",
            "\n",
            "           0       1.00      1.00      1.00       402\n",
            "           1       0.98      1.00      0.99        90\n",
            "\n",
            "    accuracy                           1.00       492\n",
            "   macro avg       0.99      1.00      0.99       492\n",
            "weighted avg       1.00      1.00      1.00       492\n",
            "\n",
            "Test Data:\n",
            "              precision    recall  f1-score   support\n",
            "\n",
            "           0       0.93      0.96      0.94       310\n",
            "           1       0.79      0.67      0.72        69\n",
            "\n",
            "    accuracy                           0.91       379\n",
            "   macro avg       0.86      0.81      0.83       379\n",
            "weighted avg       0.90      0.91      0.90       379\n",
            "\n"
          ]
        }
      ],
      "source": [
        "y_train_pred_lstm = model_lstm.predict(X_train)\n",
        "y_train_pred_lstm = np.where(y_train_pred_lstm >= 0.5, 1, 0)\n",
        "\n",
        "y_test_pred_lstm = model_lstm.predict(X_test)\n",
        "y_test_pred_lstm = np.where(y_test_pred_lstm >= 0.5, 1, 0)\n",
        "\n",
        "\n",
        "print(\"Train Data:\")\n",
        "print(classification_report(y_train, y_train_pred_lstm))\n",
        "print(\"Test Data:\")\n",
        "print(classification_report(y_test, y_test_pred_lstm))"
      ]
    },
    {
      "cell_type": "markdown",
      "metadata": {
        "id": "sJZroxnoNX7A"
      },
      "source": [
        "- Model pertama LSTM memiliki performa yang overfit, dimana model sangat baik dalam memprediksi data train namun mengalami penurunan perfromansi pada data test. Hal ini ditandai dengan nilai nilai yang ada metric untuk data train yang sempurna atau memiliki nilai 1 pada setiap metrik.\n",
        "- Pada test data, metrik yang didapat oleh model pertama ini memiliki nilai yang berbeda-beda. Model secara lebih baik dapat mengidentifikasi class 0 dibanding class 1. Hal ini dipengaruhi kondisi yang tidak seimbang antara jumlah class 0 dan 1."
      ]
    },
    {
      "cell_type": "markdown",
      "metadata": {
        "id": "7Mp3BtPkbmNC"
      },
      "source": [
        "**Model LSTM 2**"
      ]
    },
    {
      "cell_type": "code",
      "execution_count": 41,
      "metadata": {
        "colab": {
          "base_uri": "https://localhost:8080/"
        },
        "id": "3uPX7HPF2QO0",
        "outputId": "2c0bc5ef-1c17-4009-96c8-1560bd0c0212"
      },
      "outputs": [
        {
          "name": "stdout",
          "output_type": "stream",
          "text": [
            "16/16 [==============================] - 2s 12ms/step\n",
            "12/12 [==============================] - 0s 11ms/step\n",
            "Train Data:\n",
            "              precision    recall  f1-score   support\n",
            "\n",
            "           0       1.00      1.00      1.00       402\n",
            "           1       1.00      1.00      1.00        90\n",
            "\n",
            "    accuracy                           1.00       492\n",
            "   macro avg       1.00      1.00      1.00       492\n",
            "weighted avg       1.00      1.00      1.00       492\n",
            "\n",
            "Test Data:\n",
            "              precision    recall  f1-score   support\n",
            "\n",
            "           0       0.93      1.00      0.96       310\n",
            "           1       0.98      0.64      0.77        69\n",
            "\n",
            "    accuracy                           0.93       379\n",
            "   macro avg       0.95      0.82      0.87       379\n",
            "weighted avg       0.93      0.93      0.93       379\n",
            "\n"
          ]
        }
      ],
      "source": [
        "y_train_pred_imp = model_imv.predict(X_train)\n",
        "y_train_pred_imp = np.where(y_train_pred_imp >= 0.5, 1, 0)\n",
        "\n",
        "\n",
        "y_test_pred_imp = model_imv.predict(X_test)\n",
        "y_test_pred_imp = np.where(y_test_pred_imp >= 0.5, 1, 0)\n",
        "\n",
        "\n",
        "print('Train Data:')\n",
        "print(classification_report(y_train, y_train_pred_imp))\n",
        "print(\"Test Data:\")\n",
        "print(classification_report(y_test, y_test_pred_imp))"
      ]
    },
    {
      "cell_type": "markdown",
      "metadata": {
        "id": "0Xnma9tZPjs2"
      },
      "source": [
        "- Model kedua LSTM ini menunjukan hasil yang mirip dengan model pertaman dimana model sangat baik dalam memprediksi data train namun mengalami penurunan perfromansi pada data test.\n",
        "- Model kedua dari LSTM ini menunjukan kinerja yang sedikit lebih baik dibanding dengan model pertama ditandai dengan f1 score dan precision yang lebih tinggi terutama untuk class 1. Artinya, model kedua ini lebih baik dalam mengidentifikasi kelas 1 atau spam dibanding model pertama."
      ]
    },
    {
      "cell_type": "markdown",
      "metadata": {
        "id": "5Cf9NQ1gbotP"
      },
      "source": [
        "**Model Transfer Learning**"
      ]
    },
    {
      "cell_type": "code",
      "execution_count": 42,
      "metadata": {
        "colab": {
          "base_uri": "https://localhost:8080/"
        },
        "id": "G7vqHDH323A0",
        "outputId": "b083e352-d57d-4ef0-d90e-1100b8499827"
      },
      "outputs": [
        {
          "name": "stdout",
          "output_type": "stream",
          "text": [
            "16/16 [==============================] - 2s 31ms/step\n",
            "12/12 [==============================] - 0s 31ms/step\n",
            "Train Data:\n",
            "              precision    recall  f1-score   support\n",
            "\n",
            "           0       0.82      1.00      0.90       402\n",
            "           1       0.00      0.00      0.00        90\n",
            "\n",
            "    accuracy                           0.82       492\n",
            "   macro avg       0.41      0.50      0.45       492\n",
            "weighted avg       0.67      0.82      0.73       492\n",
            "\n",
            "Test Data:\n",
            "              precision    recall  f1-score   support\n",
            "\n",
            "           0       0.82      1.00      0.90       310\n",
            "           1       0.00      0.00      0.00        69\n",
            "\n",
            "    accuracy                           0.82       379\n",
            "   macro avg       0.41      0.50      0.45       379\n",
            "weighted avg       0.67      0.82      0.74       379\n",
            "\n"
          ]
        },
        {
          "name": "stderr",
          "output_type": "stream",
          "text": [
            "c:\\Users\\ardia\\Miniconda3\\envs\\hacktiv8\\lib\\site-packages\\sklearn\\metrics\\_classification.py:1344: UndefinedMetricWarning: Precision and F-score are ill-defined and being set to 0.0 in labels with no predicted samples. Use `zero_division` parameter to control this behavior.\n",
            "  _warn_prf(average, modifier, msg_start, len(result))\n",
            "c:\\Users\\ardia\\Miniconda3\\envs\\hacktiv8\\lib\\site-packages\\sklearn\\metrics\\_classification.py:1344: UndefinedMetricWarning: Precision and F-score are ill-defined and being set to 0.0 in labels with no predicted samples. Use `zero_division` parameter to control this behavior.\n",
            "  _warn_prf(average, modifier, msg_start, len(result))\n",
            "c:\\Users\\ardia\\Miniconda3\\envs\\hacktiv8\\lib\\site-packages\\sklearn\\metrics\\_classification.py:1344: UndefinedMetricWarning: Precision and F-score are ill-defined and being set to 0.0 in labels with no predicted samples. Use `zero_division` parameter to control this behavior.\n",
            "  _warn_prf(average, modifier, msg_start, len(result))\n",
            "c:\\Users\\ardia\\Miniconda3\\envs\\hacktiv8\\lib\\site-packages\\sklearn\\metrics\\_classification.py:1344: UndefinedMetricWarning: Precision and F-score are ill-defined and being set to 0.0 in labels with no predicted samples. Use `zero_division` parameter to control this behavior.\n",
            "  _warn_prf(average, modifier, msg_start, len(result))\n",
            "c:\\Users\\ardia\\Miniconda3\\envs\\hacktiv8\\lib\\site-packages\\sklearn\\metrics\\_classification.py:1344: UndefinedMetricWarning: Precision and F-score are ill-defined and being set to 0.0 in labels with no predicted samples. Use `zero_division` parameter to control this behavior.\n",
            "  _warn_prf(average, modifier, msg_start, len(result))\n",
            "c:\\Users\\ardia\\Miniconda3\\envs\\hacktiv8\\lib\\site-packages\\sklearn\\metrics\\_classification.py:1344: UndefinedMetricWarning: Precision and F-score are ill-defined and being set to 0.0 in labels with no predicted samples. Use `zero_division` parameter to control this behavior.\n",
            "  _warn_prf(average, modifier, msg_start, len(result))\n"
          ]
        }
      ],
      "source": [
        "y_train_pred_tf = model_tf.predict(X_train)\n",
        "y_train_pred_tf = np.where(y_train_pred_tf > 0.5, 1, 0)\n",
        "\n",
        "y_test_pred_tf = model_tf.predict(X_test)\n",
        "y_test_pred_tf = np.where(y_test_pred_tf > 0.5, 1, 0)\n",
        "\n",
        "# Print classification report\n",
        "print('Train Data:')\n",
        "print(classification_report(y_train, y_train_pred_tf))\n",
        "\n",
        "print('Test Data:')\n",
        "print(classification_report(y_test, y_test_pred_tf))"
      ]
    },
    {
      "cell_type": "markdown",
      "metadata": {
        "id": "FEzUfKaabg_z"
      },
      "source": [
        "- Model dengan transfer learning menunjukan ketidakmampuan dalam mengidentifikasi spam atau class 1 baik dalam train ataupun test data ditandai dengan score setiap metrik 0 untuk kelas 1 baik pada train ataupun test data. \n",
        "- Terdapat nilai yang identik antara train data dan test data terutama pada semua metrik. Hal ini mengindikasikan bahwa model memiliki masalah dalam generalisasi yang bisa disebabkan oleh bebrapa faktor yang mungkin seperti dataset yang kurang terutama untuk class 1 ataupun arsitektur model di dalamnya. Perlu diadakan pengembangan lebih lanjut untuk mencari akar masalah pada model ini. "
      ]
    },
    {
      "cell_type": "markdown",
      "metadata": {
        "id": "KGrxnkktc-7i"
      },
      "source": [
        "**Kesimpulan Evaluasi**\n",
        "\n",
        "- Model pertama dan kedua memiliki kecenderungan lebih baik pada train data. Namun model kedua hasil improovement dengan adanya regularisasi, dropout, dan jumlah neuron yang diperkecil mampu meningkatkan kinerja klasifikasi spam pada data test meskipun tidak terlalu signifikan.\n",
        "- Model transfer learning memiliki kemampuan yang buruk dalam mengidentifikasi spam dibanding dengan model 1 dan 2. Hal ini bisa disebabkan oleh tidak diterapkannya layer text vectorization dari dataset asli, kurangnya data, atau tidak seimbangnya jumlah atar label atau kelas.\n",
        "- Dengan adanya poin di atas, model kedua hasil improvement dengan Bidirectional LSTM yang ditambah dropout dan regularisasi L2 akan digunakan untuk model saving dan deployment."
      ]
    },
    {
      "cell_type": "markdown",
      "metadata": {
        "id": "Lg5d2ifBedqC"
      },
      "source": [
        "### **F. Model Saving**"
      ]
    },
    {
      "cell_type": "markdown",
      "metadata": {},
      "source": [
        "Freezing Model"
      ]
    },
    {
      "cell_type": "code",
      "execution_count": 43,
      "metadata": {
        "colab": {
          "base_uri": "https://localhost:8080/"
        },
        "id": "fYsoIqGHedDc",
        "outputId": "d00055d9-1590-42bf-cfa0-c0844ec1c1e3"
      },
      "outputs": [
        {
          "name": "stdout",
          "output_type": "stream",
          "text": [
            "Model: \"sequential\"\n",
            "_________________________________________________________________\n",
            " Layer (type)                Output Shape              Param #   \n",
            "=================================================================\n",
            " text_vectorization (TextVec  (None, 30)               0         \n",
            " torization)                                                     \n",
            "                                                                 \n",
            " embedding (Embedding)       (None, 30, 64)            109056    \n",
            "                                                                 \n",
            " bidirectional (Bidirectiona  (None, 30, 32)           10368     \n",
            " l)                                                              \n",
            "                                                                 \n",
            " dropout (Dropout)           (None, 30, 32)            0         \n",
            "                                                                 \n",
            " bidirectional_1 (Bidirectio  (None, 16)               2624      \n",
            " nal)                                                            \n",
            "                                                                 \n",
            " dropout_1 (Dropout)         (None, 16)                0         \n",
            "                                                                 \n",
            " dense (Dense)               (None, 1)                 17        \n",
            "                                                                 \n",
            "=================================================================\n",
            "Total params: 122,065\n",
            "Trainable params: 0\n",
            "Non-trainable params: 122,065\n",
            "_________________________________________________________________\n"
          ]
        }
      ],
      "source": [
        "model_imv.trainable=False\n",
        "model_imv.summary()"
      ]
    },
    {
      "cell_type": "markdown",
      "metadata": {},
      "source": [
        "Saving Model"
      ]
    },
    {
      "cell_type": "code",
      "execution_count": 51,
      "metadata": {
        "id": "QNfd_9CkAxl_"
      },
      "outputs": [
        {
          "name": "stderr",
          "output_type": "stream",
          "text": [
            "WARNING:absl:Found untraced functions such as lstm_cell_1_layer_call_fn, lstm_cell_1_layer_call_and_return_conditional_losses, lstm_cell_2_layer_call_fn, lstm_cell_2_layer_call_and_return_conditional_losses, lstm_cell_4_layer_call_fn while saving (showing 5 of 8). These functions will not be directly callable after loading.\n"
          ]
        },
        {
          "name": "stdout",
          "output_type": "stream",
          "text": [
            "INFO:tensorflow:Assets written to: deployment/spam_identifier_savedmodel\\assets\n"
          ]
        },
        {
          "name": "stderr",
          "output_type": "stream",
          "text": [
            "INFO:tensorflow:Assets written to: deployment/spam_identifier_savedmodel\\assets\n"
          ]
        }
      ],
      "source": [
        "model_imv.save('deployment/spam_identifier_savedmodel', save_format='tf')"
      ]
    },
    {
      "cell_type": "code",
      "execution_count": 55,
      "metadata": {},
      "outputs": [],
      "source": [
        "# untuk eda deployment\n",
        "df.to_csv('deployment/data_eda.csv')"
      ]
    },
    {
      "cell_type": "markdown",
      "metadata": {},
      "source": [
        "### **G. Model Inference**\n",
        "Pada notebook inference"
      ]
    },
    {
      "cell_type": "markdown",
      "metadata": {},
      "source": [
        "### **H. Conclusion**"
      ]
    },
    {
      "cell_type": "markdown",
      "metadata": {},
      "source": [
        "**Business Domain**<br>\n",
        "Model Deep learning berhasil dibuat dengan waktu kurang dari satu minggu dengan kemampuan model yang cukup baik dalam mengidentifikasi apakah email termasuk ke dalam spam atau tidak. Meskipun tim berhasil membuat model dalam waktu kurang dari satu minggu, hasil yang diperoleh masih harus diperbaiki. \n",
        "\n",
        "**Model:**<br>\n",
        "Terdapat perbaikan performa pada model improvement kedua. Model ini dirancang dengan menggabungkan arsitektur bidirectional LSTM, yang ditambahkan dengan Dropout layer dan Regularisasi L2. Dari hasil pengujian tiga model yang dibuat, model kedua dengan bidirectional LSTM ini menunjukkan kinerja yang lebih baik pada data dengan dibandingkan dengan dua model lainnya. Model menunjukkan kinerja yang sangat baik pada data Train dan baik pada data Test, namun nilai recall untuk kelas 1 pada data test menunjukkan perlunya perbaikan, terutama dalam mengidentifikasi text yang seharusnya termasuk dalam kelas spam. Kemungkinan terbesar penyebab masalah ini adalah kondisi kelas yang tidak seimbang pada dataset. \n",
        "\n",
        "**Further-Development:**\n",
        "- Direkomendasikan untuk melakukan eksplorasi lebih terkait jumlah layer dan neuron atau hyperparameter lain dengan trial and error. \n",
        "- Model bisa ditrain ulang menggunakan dataset yang lebih seimbang dan perlu dibandingkan hasil nya.\n",
        "- Pengembangan selanjutnya bisa terfokus pada recall kelas 1 pada model kedua yang memiliki kecenderungan untuk salah memprediksi true positive Mungkin bisa dilakukan dengan menyesuaikan threshold prediksi atau menggunakan metode lainnya.\n"
      ]
    }
  ],
  "metadata": {
    "accelerator": "GPU",
    "colab": {
      "collapsed_sections": [
        "ZZhaajs6ngg5"
      ],
      "gpuType": "T4",
      "provenance": []
    },
    "kernelspec": {
      "display_name": "Python 3",
      "name": "python3"
    },
    "language_info": {
      "codemirror_mode": {
        "name": "ipython",
        "version": 3
      },
      "file_extension": ".py",
      "mimetype": "text/x-python",
      "name": "python",
      "nbconvert_exporter": "python",
      "pygments_lexer": "ipython3",
      "version": "3.10.13"
    }
  },
  "nbformat": 4,
  "nbformat_minor": 0
}
